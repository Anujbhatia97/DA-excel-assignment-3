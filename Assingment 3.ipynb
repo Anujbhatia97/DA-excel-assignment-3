{
 "cells": [
  {
   "cell_type": "code",
   "execution_count": null,
   "id": "1cf43faf",
   "metadata": {},
   "outputs": [],
   "source": [
    "Q1 How and when to use the AutoSum command in excel?\n",
    "Ans If you need to sum a column or row of numbers, let Excel do the math for you. Select a cell next to the numbers you want to sum, click AutoSum on the Home tab, press Enter, and you're done. When you click AutoSum, Excel automatically enters a formula (that uses the SUM function) to sum the numbers."
   ]
  },
  {
   "cell_type": "code",
   "execution_count": null,
   "id": "4b08ddc4",
   "metadata": {},
   "outputs": [],
   "source": [
    "Q2. What is the shortcut key to perform AutoSum?\n",
    "Ans The Autosum Excel Function[1] can be accessed by typing ALT + the = sign in a spreadsheet, and it will automatically create a formula to sum all the numbers in a continuous range."
   ]
  },
  {
   "cell_type": "code",
   "execution_count": null,
   "id": "00afd2e8",
   "metadata": {},
   "outputs": [],
   "source": [
    "Q3. How do you get rid of Formula that omits adjacent cells?\n",
    "Ans 1. Open Excel and then click on File.\n",
    "    2.Go to Options and then select Formulas.\n",
    "    3. Look for Error checking rules and uncheck Formulas which omit cells in a region.\n",
    "    4. Click OK."
   ]
  },
  {
   "cell_type": "code",
   "execution_count": null,
   "id": "629a0c2a",
   "metadata": {},
   "outputs": [],
   "source": [
    "Q4. How do you select non-adjacent cells in Excel 2016?\n",
    "Ans To select a range, select a cell, then with the left mouse button pressed, drag over the other cells. Or use the Shift + arrow keys to select the range. To select non-adjacent cells and cell ranges, hold Ctrl and select the cells."
   ]
  },
  {
   "cell_type": "code",
   "execution_count": null,
   "id": "b53cc781",
   "metadata": {},
   "outputs": [],
   "source": [
    "Q5.What happens if you choose a column, hold down the Alt key and press the letters ocw in quick succession?\n",
    "Ans. The contents of the first cell in the selected column will be replaced with the letters 'O-C-W'"
   ]
  },
  {
   "cell_type": "code",
   "execution_count": null,
   "id": "3d91b997",
   "metadata": {},
   "outputs": [],
   "source": [
    "Q6. If you right-click on a row reference number and click on Insert, where will the row be added?\n",
    "Ans. Above the selected row."
   ]
  }
 ],
 "metadata": {
  "kernelspec": {
   "display_name": "Python 3 (ipykernel)",
   "language": "python",
   "name": "python3"
  },
  "language_info": {
   "codemirror_mode": {
    "name": "ipython",
    "version": 3
   },
   "file_extension": ".py",
   "mimetype": "text/x-python",
   "name": "python",
   "nbconvert_exporter": "python",
   "pygments_lexer": "ipython3",
   "version": "3.9.7"
  }
 },
 "nbformat": 4,
 "nbformat_minor": 5
}
